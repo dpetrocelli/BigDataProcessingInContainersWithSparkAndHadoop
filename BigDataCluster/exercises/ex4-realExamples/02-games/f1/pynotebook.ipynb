from pyspark.sql import SparkSession
from pyspark.sql.functions import concat_ws, row_number
from pyspark.sql.window import Window  # <-- This import was missing
# Initialize Spark session
spark = SparkSession.builder.appName("F1 Data Analysis").getOrCreate()

# Define the new local path for your files
data_path = "data/"

# Load CSV files into DataFrames with the updated path
constructor_performance_df = spark.read.csv(data_path + "Constructor_Performance.csv", header=True, inferSchema=True)
constructor_rankings_df = spark.read.csv(data_path + "Constructor_Rankings.csv", header=True, inferSchema=True)
driver_details_df = spark.read.csv(data_path + "Driver_Details.csv", header=True, inferSchema=True)
driver_rankings_df = spark.read.csv(data_path + "Driver_Rankings.csv", header=True, inferSchema=True)
lap_timings_df = spark.read.csv(data_path + "Lap_Timings.csv", header=True, inferSchema=True)
pit_stop_records_df = spark.read.csv(data_path + "Pit_Stop_Records.csv", header=True, inferSchema=True)
qualifying_results_df = spark.read.csv(data_path + "Qualifying_Results.csv", header=True, inferSchema=True)
race_results_df = spark.read.csv(data_path + "Race_Results.csv", header=True, inferSchema=True)
race_schedule_df = spark.read.csv(data_path + "Race_Schedule.csv", header=True, inferSchema=True)
race_status_df = spark.read.csv(data_path + "Race_Status.csv", header=True, inferSchema=True)
season_summaries_df = spark.read.csv(data_path + "Season_Summaries.csv", header=True, inferSchema=True)
sprint_race_results_df = spark.read.csv(data_path + "Sprint_Race_Results.csv", header=True, inferSchema=True)
team_details_df = spark.read.csv(data_path + "Team_Details.csv", header=True, inferSchema=True)
track_information_df = spark.read.csv(data_path + "Track_Information.csv", header=True, inferSchema=True)

# First, ensure you have the driver details DataFrame loaded
# Assuming driver_details_df has columns "driverId" and "driverName"
# Join race_results_df with driver_details_df on driverId

from pyspark.sql.functions import concat_ws

# # Concatenate forename and surname to create a full name
# driver_details_with_full_name = driver_details_df.withColumn("driverName", concat_ws(" ", driver_details_df["forename"], driver_details_df["surname"]))

# # Top 5 Drivers with the Most Wins and their names
# top_drivers_by_wins = race_results_df.filter(race_results_df["position"] == 1) \
#     .groupBy("driverId") \
#     .count() \
#     .orderBy("count", ascending=False) \
#     .limit(5)

# # Join with driver details to get the driver names
# top_drivers_with_names = top_drivers_by_wins.join(driver_details_with_full_name, "driverId") \
#     .select("driverName", "count") \
#     .orderBy("count", ascending=False)

# top_drivers_with_names.show()
# Assuming race_schedule_df has columns "Race_ID", "Race_Name", "Year"
# Concatenate forename and surname to create a full name
driver_details_with_full_name = driver_details_df.withColumn("driverName", concat_ws(" ", driver_details_df["forename"], driver_details_df["surname"]))

# Top 5 Drivers with the Most Wins
top_drivers_by_wins = race_results_df.filter(race_results_df["position"] == 1) \
    .groupBy("driverId") \
    .count() \
    .orderBy("count", ascending=False) \
    .limit(5)

# Join with driver details to get the driver names
top_drivers_with_names = top_drivers_by_wins.join(driver_details_with_full_name, "driverId") \
    .select("driverId", "driverName", "count") \
    .orderBy("count", ascending=False)

# Load the race schedule for race dates and names
# Assuming race_schedule_df has "Race_ID", "Race_Name", "Date", and "Year" columns
# Load the race schedule for race dates and names
# Updated to use the correct column names: "raceId", "name", "date", "year"
# Load the race schedule for race dates and names
# Updated to use the correct column names: "raceId", "name", "date", "year"
race_schedule_with_info = race_schedule_df.select("raceId", "name", "date", "year")

# Filter for top 5 drivers
top_5_drivers = top_drivers_with_names.select("driverId").rdd.flatMap(lambda x: x).collect()

# Rename raceId in one of the DataFrames to avoid ambiguity
race_results_df_renamed = race_results_df.withColumnRenamed("raceId", "raceResultId")

# Get all the race wins for the top 5 drivers
race_wins = race_results_df_renamed.filter(race_results_df_renamed["position"] == 1) \
    .filter(race_results_df_renamed["driverId"].isin(top_5_drivers)) \
    .join(race_schedule_with_info, race_results_df_renamed["raceResultId"] == race_schedule_with_info["raceId"]) \
    .select("driverId", "raceId", "name", "year", "date", "position")

# Add row numbers to each win per driver (ordered by date descending) to get the last 5 wins
window_spec = Window.partitionBy("driverId").orderBy(race_wins["date"].desc())
race_wins_with_row_number = race_wins.withColumn("row_number", row_number().over(window_spec))

# Filter to only keep the last 5 wins for each driver
last_5_wins = race_wins_with_row_number.filter(race_wins_with_row_number["row_number"] <= 5)

# Join with driver details to get driver names
last_5_wins_with_names = last_5_wins.join(driver_details_with_full_name, "driverId") \
    .select("driverName", "raceId", "name", "year", "date", "row_number") \
    .orderBy("driverName", "date", ascending=False)

# Show the results
last_5_wins_with_names.show(truncate=False)
