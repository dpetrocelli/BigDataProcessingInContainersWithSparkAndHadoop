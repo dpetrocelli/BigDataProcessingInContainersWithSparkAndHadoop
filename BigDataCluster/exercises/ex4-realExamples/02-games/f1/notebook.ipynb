{
 "cells": [
  {
   "cell_type": "code",
   "execution_count": 1,
   "metadata": {},
   "outputs": [
    {
     "name": "stderr",
     "output_type": "stream",
     "text": [
      "Setting default log level to \"WARN\".\n",
      "To adjust logging level use sc.setLogLevel(newLevel). For SparkR, use setLogLevel(newLevel).\n",
      "24/09/10 20:08:26 WARN NativeCodeLoader: Unable to load native-hadoop library for your platform... using builtin-java classes where applicable\n"
     ]
    }
   ],
   "source": [
    "from pyspark.sql import SparkSession\n",
    "from pyspark.sql.functions import concat_ws, row_number\n",
    "from pyspark.sql.window import Window  # <-- This import was missing\n",
    "# Initialize Spark session\n",
    "spark = SparkSession.builder.appName(\"F1 Data Analysis\").getOrCreate()"
   ]
  },
  {
   "cell_type": "code",
   "execution_count": 2,
   "metadata": {},
   "outputs": [],
   "source": [
    "data_path = \"data/\"\n",
    "\n",
    "# Load CSV files into DataFrames with the updated path\n",
    "constructor_performance_df = spark.read.csv(data_path + \"Constructor_Performance.csv\", header=True, inferSchema=True)\n",
    "constructor_rankings_df = spark.read.csv(data_path + \"Constructor_Rankings.csv\", header=True, inferSchema=True)\n",
    "driver_details_df = spark.read.csv(data_path + \"Driver_Details.csv\", header=True, inferSchema=True)\n",
    "driver_rankings_df = spark.read.csv(data_path + \"Driver_Rankings.csv\", header=True, inferSchema=True)\n",
    "lap_timings_df = spark.read.csv(data_path + \"Lap_Timings.csv\", header=True, inferSchema=True)\n",
    "pit_stop_records_df = spark.read.csv(data_path + \"Pit_Stop_Records.csv\", header=True, inferSchema=True)\n",
    "qualifying_results_df = spark.read.csv(data_path + \"Qualifying_Results.csv\", header=True, inferSchema=True)\n",
    "race_results_df = spark.read.csv(data_path + \"Race_Results.csv\", header=True, inferSchema=True)\n",
    "race_schedule_df = spark.read.csv(data_path + \"Race_Schedule.csv\", header=True, inferSchema=True)\n",
    "race_status_df = spark.read.csv(data_path + \"Race_Status.csv\", header=True, inferSchema=True)\n",
    "season_summaries_df = spark.read.csv(data_path + \"Season_Summaries.csv\", header=True, inferSchema=True)\n",
    "sprint_race_results_df = spark.read.csv(data_path + \"Sprint_Race_Results.csv\", header=True, inferSchema=True)\n",
    "team_details_df = spark.read.csv(data_path + \"Team_Details.csv\", header=True, inferSchema=True)\n",
    "track_information_df = spark.read.csv(data_path + \"Track_Information.csv\", header=True, inferSchema=True)\n"
   ]
  },
  {
   "cell_type": "code",
   "execution_count": 3,
   "metadata": {},
   "outputs": [
    {
     "name": "stdout",
     "output_type": "stream",
     "text": [
      "+------------------+-----+\n",
      "|        driverName|count|\n",
      "+------------------+-----+\n",
      "|    Lewis Hamilton|  104|\n",
      "|Michael Schumacher|   91|\n",
      "|    Max Verstappen|   61|\n",
      "|  Sebastian Vettel|   53|\n",
      "|       Alain Prost|   51|\n",
      "+------------------+-----+\n",
      "\n"
     ]
    }
   ],
   "source": [
    "# Join race_results_df with driver_details_df on driverId\n",
    "\n",
    "from pyspark.sql.functions import concat_ws\n",
    "\n",
    "# Concatenate forename and surname to create a full name\n",
    "driver_details_with_full_name = driver_details_df.withColumn(\"driverName\", concat_ws(\" \", driver_details_df[\"forename\"], driver_details_df[\"surname\"]))\n",
    "\n",
    "# Top 5 Drivers with the Most Wins and their names\n",
    "top_drivers_by_wins = race_results_df.filter(race_results_df[\"position\"] == 1) \\\n",
    "    .groupBy(\"driverId\") \\\n",
    "    .count() \\\n",
    "    .orderBy(\"count\", ascending=False) \\\n",
    "    .limit(5)\n",
    "\n",
    "# Join with driver details to get the driver names\n",
    "top_drivers_with_names = top_drivers_by_wins.join(driver_details_with_full_name, \"driverId\") \\\n",
    "    .select(\"driverName\", \"count\") \\\n",
    "    .orderBy(\"count\", ascending=False)\n",
    "\n",
    "top_drivers_with_names.show()"
   ]
  },
  {
   "cell_type": "code",
   "execution_count": 4,
   "metadata": {},
   "outputs": [
    {
     "name": "stdout",
     "output_type": "stream",
     "text": [
      "+------------------+------+-------------------------+----+----------+----------+\n",
      "|driverName        |raceId|name                     |year|date      |row_number|\n",
      "+------------------+------+-------------------------+----+----------+----------+\n",
      "|Sebastian Vettel  |1024  |Singapore Grand Prix     |2019|2019-09-22|1         |\n",
      "|Sebastian Vettel  |1001  |Belgian Grand Prix       |2018|2018-08-26|2         |\n",
      "|Sebastian Vettel  |998   |British Grand Prix       |2018|2018-07-08|3         |\n",
      "|Sebastian Vettel  |995   |Canadian Grand Prix      |2018|2018-06-10|4         |\n",
      "|Sebastian Vettel  |990   |Bahrain Grand Prix       |2018|2018-04-08|5         |\n",
      "|Michael Schumacher|68    |Chinese Grand Prix       |2006|2006-10-01|1         |\n",
      "|Michael Schumacher|67    |Italian Grand Prix       |2006|2006-09-10|2         |\n",
      "|Michael Schumacher|64    |German Grand Prix        |2006|2006-07-30|3         |\n",
      "|Michael Schumacher|63    |French Grand Prix        |2006|2006-07-16|4         |\n",
      "|Michael Schumacher|62    |United States Grand Prix |2006|2006-07-02|5         |\n",
      "|Max Verstappen    |1130  |Spanish Grand Prix       |2024|2024-06-23|1         |\n",
      "|Max Verstappen    |1129  |Canadian Grand Prix      |2024|2024-06-09|2         |\n",
      "|Max Verstappen    |1127  |Emilia Romagna Grand Prix|2024|2024-05-19|3         |\n",
      "|Max Verstappen    |1125  |Chinese Grand Prix       |2024|2024-04-21|4         |\n",
      "|Max Verstappen    |1124  |Japanese Grand Prix      |2024|2024-04-07|5         |\n",
      "|Lewis Hamilton    |1132  |British Grand Prix       |2024|2024-07-07|1         |\n",
      "|Lewis Hamilton    |1072  |Saudi Arabian Grand Prix |2021|2021-12-05|2         |\n",
      "|Lewis Hamilton    |1051  |Qatar Grand Prix         |2021|2021-11-21|3         |\n",
      "|Lewis Hamilton    |1071  |São Paulo Grand Prix     |2021|2021-11-14|4         |\n",
      "|Lewis Hamilton    |1066  |Russian Grand Prix       |2021|2021-09-26|5         |\n",
      "+------------------+------+-------------------------+----+----------+----------+\n",
      "only showing top 20 rows\n",
      "\n"
     ]
    }
   ],
   "source": [
    "# Concatenate forename and surname to create a full name\n",
    "driver_details_with_full_name = driver_details_df.withColumn(\"driverName\", concat_ws(\" \", driver_details_df[\"forename\"], driver_details_df[\"surname\"]))\n",
    "\n",
    "# Top 5 Drivers with the Most Wins\n",
    "top_drivers_by_wins = race_results_df.filter(race_results_df[\"position\"] == 1) \\\n",
    "    .groupBy(\"driverId\") \\\n",
    "    .count() \\\n",
    "    .orderBy(\"count\", ascending=False) \\\n",
    "    .limit(5)\n",
    "\n",
    "# Join with driver details to get the driver names\n",
    "top_drivers_with_names = top_drivers_by_wins.join(driver_details_with_full_name, \"driverId\") \\\n",
    "    .select(\"driverId\", \"driverName\", \"count\") \\\n",
    "    .orderBy(\"count\", ascending=False)\n",
    "\n",
    "# Load the race schedule for race dates and names\n",
    "# Assuming race_schedule_df has \"Race_ID\", \"Race_Name\", \"Date\", and \"Year\" columns\n",
    "# Load the race schedule for race dates and names\n",
    "# Updated to use the correct column names: \"raceId\", \"name\", \"date\", \"year\"\n",
    "# Load the race schedule for race dates and names\n",
    "# Updated to use the correct column names: \"raceId\", \"name\", \"date\", \"year\"\n",
    "race_schedule_with_info = race_schedule_df.select(\"raceId\", \"name\", \"date\", \"year\")\n",
    "\n",
    "# Filter for top 5 drivers\n",
    "top_5_drivers = top_drivers_with_names.select(\"driverId\").rdd.flatMap(lambda x: x).collect()\n",
    "\n",
    "# Rename raceId in one of the DataFrames to avoid ambiguity\n",
    "race_results_df_renamed = race_results_df.withColumnRenamed(\"raceId\", \"raceResultId\")\n",
    "\n",
    "# Get all the race wins for the top 5 drivers\n",
    "race_wins = race_results_df_renamed.filter(race_results_df_renamed[\"position\"] == 1) \\\n",
    "    .filter(race_results_df_renamed[\"driverId\"].isin(top_5_drivers)) \\\n",
    "    .join(race_schedule_with_info, race_results_df_renamed[\"raceResultId\"] == race_schedule_with_info[\"raceId\"]) \\\n",
    "    .select(\"driverId\", \"raceId\", \"name\", \"year\", \"date\", \"position\")\n",
    "\n",
    "# Add row numbers to each win per driver (ordered by date descending) to get the last 5 wins\n",
    "window_spec = Window.partitionBy(\"driverId\").orderBy(race_wins[\"date\"].desc())\n",
    "race_wins_with_row_number = race_wins.withColumn(\"row_number\", row_number().over(window_spec))\n",
    "\n",
    "# Filter to only keep the last 5 wins for each driver\n",
    "last_5_wins = race_wins_with_row_number.filter(race_wins_with_row_number[\"row_number\"] <= 5)\n",
    "\n",
    "# Join with driver details to get driver names\n",
    "last_5_wins_with_names = last_5_wins.join(driver_details_with_full_name, \"driverId\") \\\n",
    "    .select(\"driverName\", \"raceId\", \"name\", \"year\", \"date\", \"row_number\") \\\n",
    "    .orderBy(\"driverName\", \"date\", ascending=False)\n",
    "\n",
    "# Show the results\n",
    "last_5_wins_with_names.show(truncate=False)"
   ]
  },
  {
   "cell_type": "code",
   "execution_count": 5,
   "metadata": {},
   "outputs": [
    {
     "name": "stdout",
     "output_type": "stream",
     "text": [
      "+--------------+-----------+\n",
      "|name          |sum(points)|\n",
      "+--------------+-----------+\n",
      "|Ferrari       |10001.0    |\n",
      "|Red Bull      |7621.0     |\n",
      "|Mercedes      |7443.5     |\n",
      "|McLaren       |6685.5     |\n",
      "|Williams      |3630.0     |\n",
      "|Renault       |1777.0     |\n",
      "|Force India   |1098.0     |\n",
      "|Team Lotus    |918.0      |\n",
      "|Benetton      |861.5      |\n",
      "|Lotus F1      |706.0      |\n",
      "|Tyrrell       |621.0      |\n",
      "|Brabham       |595.0      |\n",
      "|Sauber        |557.0      |\n",
      "|Toro Rosso    |500.0      |\n",
      "|Aston Martin  |480.0      |\n",
      "|Alpine F1 Team|457.0      |\n",
      "|BRM           |439.0      |\n",
      "|Ligier        |388.0      |\n",
      "|AlphaTauri    |309.0      |\n",
      "|BMW Sauber    |308.0      |\n",
      "+--------------+-----------+\n",
      "only showing top 20 rows\n",
      "\n"
     ]
    }
   ],
   "source": [
    "# Aggregate points for each constructor\n",
    "top_constructors = constructor_performance_df.groupBy(\"constructorId\") \\\n",
    "    .agg({\"points\": \"sum\"}) \\\n",
    "    .orderBy(\"sum(points)\", ascending=False)\n",
    "\n",
    "# Join with team details to get constructor names\n",
    "top_constructors_with_names = top_constructors.join(team_details_df, \"constructorId\") \\\n",
    "    .select(\"name\", \"sum(points)\") \\\n",
    "    .orderBy(\"sum(points)\", ascending=False)\n",
    "\n",
    "top_constructors_with_names.show(truncate=False)\n"
   ]
  },
  {
   "cell_type": "code",
   "execution_count": 6,
   "metadata": {},
   "outputs": [
    {
     "name": "stdout",
     "output_type": "stream",
     "text": [
      "+---------------------+----+-----------------+\n",
      "|driverName           |year|avg(milliseconds)|\n",
      "+---------------------+----+-----------------+\n",
      "|Franco Comotti       |1950|NULL             |\n",
      "|José Froilán González|1950|NULL             |\n",
      "|Joie Chitwood        |1950|NULL             |\n",
      "|Fred Agabashian      |1950|NULL             |\n",
      "|Myron Fohr           |1950|NULL             |\n",
      "|Maurice Trintignant  |1950|NULL             |\n",
      "|Nello Pagani         |1950|NULL             |\n",
      "|Cecil Green          |1950|NULL             |\n",
      "|Brian Shawe Taylor   |1950|NULL             |\n",
      "|Toni Branca          |1950|NULL             |\n",
      "|Travis Webb          |1950|NULL             |\n",
      "|Geoff Crossley       |1950|NULL             |\n",
      "|Jerry Hoyt           |1950|NULL             |\n",
      "|Raymond Sommer       |1950|NULL             |\n",
      "|Sam Hanks            |1950|NULL             |\n",
      "|Bill Cantrell        |1950|NULL             |\n",
      "|Louis Chiron         |1950|NULL             |\n",
      "|Duane Carter         |1950|NULL             |\n",
      "|David Hampshire      |1950|NULL             |\n",
      "|Jimmy Davies         |1950|NULL             |\n",
      "+---------------------+----+-----------------+\n",
      "only showing top 20 rows\n",
      "\n"
     ]
    }
   ],
   "source": [
    "# Join race results with race schedule to get the year\n",
    "race_times_with_year = race_results_df.join(race_schedule_df, \"raceId\") \\\n",
    "    .select(\"driverId\", \"raceId\", \"milliseconds\", \"year\")\n",
    "\n",
    "# Calculate average race time by driver and season\n",
    "average_race_time = race_times_with_year.groupBy(\"driverId\", \"year\") \\\n",
    "    .agg({\"milliseconds\": \"avg\"}) \\\n",
    "    .orderBy(\"avg(milliseconds)\")\n",
    "\n",
    "# Join with driver details to get driver names\n",
    "average_race_time_with_names = average_race_time.join(driver_details_with_full_name, \"driverId\") \\\n",
    "    .select(\"driverName\", \"year\", \"avg(milliseconds)\") \\\n",
    "    .orderBy(\"year\", \"avg(milliseconds)\")\n",
    "\n",
    "average_race_time_with_names.show(truncate=False)\n"
   ]
  },
  {
   "cell_type": "code",
   "execution_count": 8,
   "metadata": {},
   "outputs": [
    {
     "name": "stdout",
     "output_type": "stream",
     "text": [
      "+---------------------+----+------+---------------------+------------+\n",
      "|name                 |year|raceId|driverName           |milliseconds|\n",
      "+---------------------+----+------+---------------------+------------+\n",
      "|French Grand Prix    |1996|232   |Jacques Villeneuve   |78610       |\n",
      "|Hungarian Grand Prix |1996|235   |Damon Hill           |80093       |\n",
      "|European Grand Prix  |1996|227   |Damon Hill           |81363       |\n",
      "|Brazilian Grand Prix |1996|225   |Damon Hill           |81547       |\n",
      "|Canadian Grand Prix  |1996|231   |Jacques Villeneuve   |81916       |\n",
      "|Portuguese Grand Prix|1996|238   |Jacques Villeneuve   |82873       |\n",
      "|Monaco Grand Prix    |1996|229   |Jean Alesi           |85205       |\n",
      "|Italian Grand Prix   |1996|237   |Michael Schumacher   |86110       |\n",
      "|San Marino Grand Prix|1996|228   |Damon Hill           |88931       |\n",
      "|British Grand Prix   |1996|233   |Jacques Villeneuve   |89288       |\n",
      "|Argentine Grand Prix |1996|226   |Jean Alesi           |89413       |\n",
      "|Australian Grand Prix|1996|224   |Jacques Villeneuve   |93421       |\n",
      "|Japanese Grand Prix  |1996|239   |Jacques Villeneuve   |104043      |\n",
      "|Spanish Grand Prix   |1996|230   |Michael Schumacher   |105517      |\n",
      "|German Grand Prix    |1996|234   |Damon Hill           |106504      |\n",
      "|Belgian Grand Prix   |1996|236   |Gerhard Berger       |113067      |\n",
      "|Austrian Grand Prix  |1997|220   |Jacques Villeneuve   |71814       |\n",
      "|French Grand Prix    |1997|214   |Michael Schumacher   |77910       |\n",
      "|Hungarian Grand Prix |1997|217   |Heinz-Harald Frentzen|78372       |\n",
      "|Brazilian Grand Prix |1997|208   |Jacques Villeneuve   |78397       |\n",
      "+---------------------+----+------+---------------------+------------+\n",
      "only showing top 20 rows\n",
      "\n"
     ]
    }
   ],
   "source": [
    "\n",
    "\n",
    "# Find the fastest lap in each race and rename the aggregated column\n",
    "fastest_laps = lap_timings_df.groupBy(\"raceId\") \\\n",
    "    .agg({\"milliseconds\": \"min\"}) \\\n",
    "    .withColumnRenamed(\"min(milliseconds)\", \"milliseconds\") \\\n",
    "    .orderBy(\"raceId\")\n",
    "\n",
    "# Join with the original lap timings to get the driverId based on the fastest milliseconds\n",
    "fastest_laps_with_driver = fastest_laps.join(lap_timings_df, [\"raceId\", \"milliseconds\"])\n",
    "\n",
    "# Join with driver details and race schedule to get driver names and race info\n",
    "fastest_laps_with_names = fastest_laps_with_driver \\\n",
    "    .join(driver_details_with_full_name, \"driverId\") \\\n",
    "    .join(race_schedule_df, \"raceId\") \\\n",
    "    .select(\"name\", \"year\", \"raceId\", \"driverName\", \"milliseconds\") \\\n",
    "    .orderBy(\"year\", \"milliseconds\")\n",
    "\n",
    "# Show the results\n",
    "fastest_laps_with_names.show(truncate=False)\n",
    "\n"
   ]
  },
  {
   "cell_type": "code",
   "execution_count": 4,
   "metadata": {},
   "outputs": [
    {
     "name": "stdout",
     "output_type": "stream",
     "text": [
      "+------+---------------------+----+------------------+------------+------------+\n",
      "|raceId|name                 |year|driverName        |min_duration|max_duration|\n",
      "+------+---------------------+----+------------------+------------+------------+\n",
      "|858   |Abu Dhabi Grand Prix |2011|Pastor Maldonado  |12.897      |43.574      |\n",
      "|858   |Abu Dhabi Grand Prix |2011|Jaime Alguersuari |12.897      |43.574      |\n",
      "|851   |Hungarian Grand Prix |2011|Lewis Hamilton    |13.173      |49.849      |\n",
      "|851   |Hungarian Grand Prix |2011|Jérôme d'Ambrosio |13.173      |49.849      |\n",
      "|843   |Chinese Grand Prix   |2011|Sergio Pérez      |13.900      |33.827      |\n",
      "|843   |Chinese Grand Prix   |2011|Timo Glock        |13.900      |33.827      |\n",
      "|852   |Belgian Grand Prix   |2011|Rubens Barrichello|13.914      |47.753      |\n",
      "|852   |Belgian Grand Prix   |2011|Timo Glock        |13.914      |47.753      |\n",
      "|844   |Turkish Grand Prix   |2011|Pastor Maldonado  |13.925      |56.611      |\n",
      "|844   |Turkish Grand Prix   |2011|Vitantonio Liuzzi |13.925      |56.611      |\n",
      "|856   |Korean Grand Prix    |2011|Pastor Maldonado  |13.984      |26.905      |\n",
      "|856   |Korean Grand Prix    |2011|Jérôme d'Ambrosio |13.984      |26.905      |\n",
      "|859   |Brazilian Grand Prix |2011|Bruno Senna       |14.029      |25.481      |\n",
      "|859   |Brazilian Grand Prix |2011|Michael Schumacher|14.029      |25.481      |\n",
      "|847   |Canadian Grand Prix  |2011|Jarno Trulli      |14.501      |51.684      |\n",
      "|847   |Canadian Grand Prix  |2011|Jenson Button     |14.501      |51.684      |\n",
      "|857   |Indian Grand Prix    |2011|Daniel Ricciardo  |14.919      |42.529      |\n",
      "|857   |Indian Grand Prix    |2011|Felipe Massa      |14.919      |42.529      |\n",
      "|841   |Australian Grand Prix|2011|Rubens Barrichello|16.867      |37.856      |\n",
      "|841   |Australian Grand Prix|2011|Jenson Button     |16.867      |37.856      |\n",
      "+------+---------------------+----+------------------+------------+------------+\n",
      "only showing top 20 rows\n",
      "\n"
     ]
    }
   ],
   "source": [
    "from pyspark.sql.functions import col, min, max\n",
    "\n",
    "# Find the longest and shortest pit stops in each race and rename the aggregated columns\n",
    "pit_stop_analysis = pit_stop_records_df.groupBy(\"raceId\") \\\n",
    "    .agg(min(\"duration\").alias(\"min_duration\"), max(\"duration\").alias(\"max_duration\")) \\\n",
    "    .orderBy(\"raceId\")\n",
    "\n",
    "# Alias pit_stop_records_df to avoid ambiguity in raceId columns during joins\n",
    "pit_stop_records_aliased = pit_stop_records_df.alias(\"records\")\n",
    "\n",
    "# Join with the original pit stop records to get the driverId based on the raceId and duration\n",
    "pit_stop_analysis_with_driver = pit_stop_analysis.join(\n",
    "    pit_stop_records_aliased,\n",
    "    (pit_stop_analysis[\"raceId\"] == col(\"records.raceId\")) &\n",
    "    ((pit_stop_analysis[\"min_duration\"] == col(\"records.duration\")) |\n",
    "     (pit_stop_analysis[\"max_duration\"] == col(\"records.duration\")))\n",
    ").select(pit_stop_analysis[\"raceId\"], \"records.driverId\", \"min_duration\", \"max_duration\")\n",
    "\n",
    "# Join with driver details and race schedule to get driver names and race info\n",
    "driver_details_aliased = driver_details_with_full_name.alias(\"drivers\")\n",
    "race_schedule_aliased = race_schedule_df.alias(\"races\")\n",
    "\n",
    "pit_stop_analysis_with_names = pit_stop_analysis_with_driver \\\n",
    "    .join(driver_details_aliased, \"driverId\") \\\n",
    "    .join(race_schedule_aliased, pit_stop_analysis_with_driver[\"raceId\"] == col(\"races.raceId\")) \\\n",
    "    .select(\n",
    "        pit_stop_analysis_with_driver[\"raceId\"],\n",
    "        \"races.name\", \"races.year\", \"drivers.driverName\", \n",
    "        \"min_duration\", \"max_duration\"\n",
    "    ).orderBy(\"year\", \"min_duration\")\n",
    "\n",
    "# Show the results\n",
    "pit_stop_analysis_with_names.show(truncate=False)\n"
   ]
  },
  {
   "cell_type": "code",
   "execution_count": 17,
   "metadata": {},
   "outputs": [
    {
     "name": "stdout",
     "output_type": "stream",
     "text": [
      "+------------------+----+------------------+\n",
      "|driverName        |year|avg(position)     |\n",
      "+------------------+----+------------------+\n",
      "|Nino Farina       |1950|1.2857142857142858|\n",
      "|Luigi Fagioli     |1950|2.5714285714285716|\n",
      "|Juan Fangio       |1950|3.7142857142857144|\n",
      "|Johnnie Parsons   |1950|4.6               |\n",
      "|Alberto Ascari    |1950|5.166666666666667 |\n",
      "|Louis Rosier      |1950|6.571428571428571 |\n",
      "|Bill Holland      |1950|6.6               |\n",
      "|Reg Parnell       |1950|8.285714285714286 |\n",
      "|Louis Chiron      |1950|9.714285714285714 |\n",
      "|Prince Bira       |1950|10.142857142857142|\n",
      "|Yves Cabantous    |1950|10.571428571428571|\n",
      "|Mauri Rose        |1950|11.0              |\n",
      "|Raymond Sommer    |1950|12.166666666666666|\n",
      "|Dorino Serafini   |1950|13.0              |\n",
      "|Cecil Green       |1950|14.4              |\n",
      "|Felice Bonetto    |1950|16.5              |\n",
      "|Bob Gerard        |1950|16.571428571428573|\n",
      "|Tony Bettenhausen |1950|17.6              |\n",
      "|Joie Chitwood     |1950|18.6              |\n",
      "|Philippe Étancelin|1950|18.857142857142858|\n",
      "+------------------+----+------------------+\n",
      "only showing top 20 rows\n",
      "\n"
     ]
    }
   ],
   "source": [
    "# Join driver rankings with race schedule to get the year\n",
    "driver_ranking_with_year = driver_rankings_df.join(race_schedule_df, \"raceId\") \\\n",
    "    .select(\"driverId\", \"position\", \"year\")\n",
    "\n",
    "# Calculate average rank by year for each driver\n",
    "driver_ranking_evolution = driver_ranking_with_year.groupBy(\"driverId\", \"year\") \\\n",
    "    .agg({\"position\": \"avg\"}) \\\n",
    "    .orderBy(\"year\", \"avg(position)\")\n",
    "\n",
    "# Join with driver details to get driver names\n",
    "driver_ranking_evolution_with_names = driver_ranking_evolution.join(driver_details_with_full_name, \"driverId\") \\\n",
    "    .select(\"driverName\", \"year\", \"avg(position)\") \\\n",
    "    .orderBy(\"year\", \"avg(position)\")\n",
    "\n",
    "driver_ranking_evolution_with_names.show(truncate=False)\n"
   ]
  },
  {
   "cell_type": "code",
   "execution_count": 18,
   "metadata": {},
   "outputs": [
    {
     "name": "stdout",
     "output_type": "stream",
     "text": [
      "+--------------+----+-----------+\n",
      "|name          |year|sum(points)|\n",
      "+--------------+----+-----------+\n",
      "|Red Bull      |2024|373.0      |\n",
      "|Ferrari       |2024|302.0      |\n",
      "|McLaren       |2024|295.0      |\n",
      "|Mercedes      |2024|221.0      |\n",
      "|Aston Martin  |2024|68.0       |\n",
      "|RB F1 Team    |2024|31.0       |\n",
      "|Haas F1 Team  |2024|27.0       |\n",
      "|Alpine F1 Team|2024|9.0        |\n",
      "|Williams      |2024|4.0        |\n",
      "|Sauber        |2024|0.0        |\n",
      "|Red Bull      |2023|860.0      |\n",
      "|Mercedes      |2023|409.0      |\n",
      "|Ferrari       |2023|406.0      |\n",
      "|McLaren       |2023|302.0      |\n",
      "|Aston Martin  |2023|280.0      |\n",
      "|Alpine F1 Team|2023|120.0      |\n",
      "|Williams      |2023|28.0       |\n",
      "|AlphaTauri    |2023|25.0       |\n",
      "|Alfa Romeo    |2023|16.0       |\n",
      "|Haas F1 Team  |2023|12.0       |\n",
      "+--------------+----+-----------+\n",
      "only showing top 20 rows\n",
      "\n"
     ]
    }
   ],
   "source": [
    "# Join constructor performance with race schedule to get the year\n",
    "constructor_performance_with_year = constructor_performance_df.join(race_schedule_df, \"raceId\") \\\n",
    "    .select(\"constructorId\", \"points\", \"year\")\n",
    "\n",
    "# Sum points per constructor and year\n",
    "top_teams_per_season = constructor_performance_with_year.groupBy(\"constructorId\", \"year\") \\\n",
    "    .agg({\"points\": \"sum\"}) \\\n",
    "    .orderBy(\"year\", \"sum(points)\", ascending=False)\n",
    "\n",
    "# Join with team details to get constructor names\n",
    "top_teams_per_season_with_names = top_teams_per_season.join(team_details_df, \"constructorId\") \\\n",
    "    .select(\"name\", \"year\", \"sum(points)\") \\\n",
    "    .orderBy(\"year\", \"sum(points)\", ascending=False)\n",
    "\n",
    "top_teams_per_season_with_names.show(truncate=False)\n"
   ]
  },
  {
   "cell_type": "code",
   "execution_count": 20,
   "metadata": {},
   "outputs": [
    {
     "name": "stdout",
     "output_type": "stream",
     "text": [
      "+------------------+-----------+----+------------------+\n",
      "|driverName        |total_races|wins|win_percentage    |\n",
      "+------------------+-----------+----+------------------+\n",
      "|Lee Wallard       |2          |1   |50.0              |\n",
      "|Juan Fangio       |58         |24  |41.37931034482759 |\n",
      "|Bill Vukovich     |5          |2   |40.0              |\n",
      "|Alberto Ascari    |36         |13  |36.11111111111111 |\n",
      "|Jim Clark         |73         |25  |34.24657534246575 |\n",
      "|Max Verstappen    |197        |61  |30.96446700507614 |\n",
      "|Lewis Hamilton    |344        |104 |30.23255813953488 |\n",
      "|Michael Schumacher|308        |91  |29.545454545454547|\n",
      "|Jackie Stewart    |100        |27  |27.0              |\n",
      "|Ayrton Senna      |162        |41  |25.308641975308642|\n",
      "|Alain Prost       |202        |51  |25.247524752475247|\n",
      "|Stirling Moss     |73         |16  |21.91780821917808 |\n",
      "|Bob Sweikert      |5          |1   |20.0              |\n",
      "|Damon Hill        |122        |22  |18.0327868852459  |\n",
      "|Sebastian Vettel  |300        |53  |17.666666666666668|\n",
      "|Pat Flaherty      |6          |1   |16.666666666666664|\n",
      "|Nigel Mansell     |192        |31  |16.145833333333336|\n",
      "|Tony Brooks       |41         |6   |14.634146341463413|\n",
      "|Niki Lauda        |174        |25  |14.367816091954023|\n",
      "|Nino Farina       |37         |5   |13.513513513513514|\n",
      "+------------------+-----------+----+------------------+\n",
      "only showing top 20 rows\n",
      "\n"
     ]
    }
   ],
   "source": [
    "from pyspark.sql.functions import col, count, when\n",
    "\n",
    "# Aggregating wins and total races for each driver\n",
    "driver_wins = race_results_df.groupBy(\"driverId\") \\\n",
    "    .agg(\n",
    "        count(\"position\").alias(\"total_races\"), \n",
    "        count(when(col(\"position\") == 1, True)).alias(\"wins\")\n",
    "    )\n",
    "\n",
    "# Calculate win percentage\n",
    "driver_win_percentage = driver_wins.withColumn(\n",
    "    \"win_percentage\", \n",
    "    (col(\"wins\") / col(\"total_races\")) * 100\n",
    ").orderBy(col(\"win_percentage\").desc())\n",
    "\n",
    "# Join with driver details to get driver names\n",
    "driver_win_percentage_with_names = driver_win_percentage.join(\n",
    "    driver_details_with_full_name, \"driverId\"\n",
    ").select(\n",
    "    \"driverName\", \"total_races\", \"wins\", \"win_percentage\"\n",
    ").orderBy(col(\"win_percentage\").desc())\n",
    "\n",
    "# Show the results\n",
    "driver_win_percentage_with_names.show(truncate=False)\n"
   ]
  },
  {
   "cell_type": "code",
   "execution_count": 21,
   "metadata": {},
   "outputs": [
    {
     "name": "stdout",
     "output_type": "stream",
     "text": [
      "+---------------+-----+\n",
      "|status         |count|\n",
      "+---------------+-----+\n",
      "|Did not qualify|1    |\n",
      "|Withdrew       |1    |\n",
      "|Engine         |1    |\n",
      "|Driver unwell  |1    |\n",
      "|Water leak     |1    |\n",
      "|Suspension     |1    |\n",
      "|+17 Laps       |1    |\n",
      "|Out of fuel    |1    |\n",
      "|Not restarted  |1    |\n",
      "|Fuel system    |1    |\n",
      "|+21 Laps       |1    |\n",
      "|Damage         |1    |\n",
      "|+6 Laps        |1    |\n",
      "|+3 Laps        |1    |\n",
      "|Throttle       |1    |\n",
      "|Oil leak       |1    |\n",
      "|Oil pressure   |1    |\n",
      "|Eye injury     |1    |\n",
      "|Launch control |1    |\n",
      "|Water pump     |1    |\n",
      "+---------------+-----+\n",
      "only showing top 20 rows\n",
      "\n"
     ]
    }
   ],
   "source": [
    "# Count occurrences of each race status\n",
    "race_status_analysis = race_status_df.groupBy(\"status\") \\\n",
    "    .count() \\\n",
    "    .orderBy(\"count\", ascending=False)\n",
    "\n",
    "race_status_analysis.show(truncate=False)\n"
   ]
  },
  {
   "cell_type": "code",
   "execution_count": 22,
   "metadata": {},
   "outputs": [
    {
     "name": "stdout",
     "output_type": "stream",
     "text": [
      "+------------------+------------------+\n",
      "|driverName        |avg(position)     |\n",
      "+------------------+------------------+\n",
      "|Ayrton Senna      |1.0               |\n",
      "|Lewis Hamilton    |3.8924418604651163|\n",
      "|Max Verstappen    |4.771573604060913 |\n",
      "|Nigel Mansell     |4.833333333333333 |\n",
      "|Damon Hill        |5.372881355932203 |\n",
      "|Michael Schumacher|5.666666666666667 |\n",
      "|Gerhard Berger    |5.760869565217392 |\n",
      "|Juan Pablo Montoya|6.03125           |\n",
      "|Mika Häkkinen     |6.048387096774194 |\n",
      "|Sebastian Vettel  |6.247491638795987 |\n",
      "|Charles Leclerc   |6.2773722627737225|\n",
      "|Nico Rosberg      |6.834951456310679 |\n",
      "|Mark Webber       |7.316831683168317 |\n",
      "|Jean Alesi        |7.467741935483871 |\n",
      "|Valtteri Bottas   |7.468085106382978 |\n",
      "|Lando Norris      |7.620689655172414 |\n",
      "|Kimi Räikkönen    |7.654205607476635 |\n",
      "|Fernando Alonso   |8.101333333333333 |\n",
      "|Ralf Schumacher   |8.261682242990654 |\n",
      "|Eddie Irvine      |8.265625          |\n",
      "+------------------+------------------+\n",
      "only showing top 20 rows\n",
      "\n"
     ]
    }
   ],
   "source": [
    "# Calculate average qualifying position for each driver\n",
    "average_qualifying_position = qualifying_results_df.groupBy(\"driverId\") \\\n",
    "    .agg({\"position\": \"avg\"}) \\\n",
    "    .orderBy(\"avg(position)\", ascending=True)\n",
    "\n",
    "# Join with driver details to get driver names\n",
    "average_qualifying_position_with_names = average_qualifying_position.join(driver_details_with_full_name, \"driverId\") \\\n",
    "    .select(\"driverName\", \"avg(position)\") \\\n",
    "    .orderBy(\"avg(position)\", ascending=True)\n",
    "\n",
    "average_qualifying_position_with_names.show(truncate=False)\n"
   ]
  },
  {
   "cell_type": "code",
   "execution_count": 24,
   "metadata": {},
   "outputs": [
    {
     "name": "stdout",
     "output_type": "stream",
     "text": [
      "Correlation between driver rank and constructor rank: 0.08551347347670557\n"
     ]
    }
   ],
   "source": [
    "# Join driver and constructor standings by raceId\n",
    "driver_constructor_correlation = driver_rankings_df.join(\n",
    "    constructor_rankings_df, \"raceId\"\n",
    ").select(\n",
    "    \"driverId\", \"constructorId\", driver_rankings_df[\"position\"].alias(\"driverRank\"), constructor_rankings_df[\"position\"].alias(\"constructorRank\")\n",
    ")\n",
    "\n",
    "# Calculate correlation between driver rank and constructor rank\n",
    "driver_constructor_correlation_result = driver_constructor_correlation.stat.corr(\"driverRank\", \"constructorRank\")\n",
    "\n",
    "# Output the correlation result\n",
    "print(f\"Correlation between driver rank and constructor rank: {driver_constructor_correlation_result}\")\n"
   ]
  },
  {
   "cell_type": "code",
   "execution_count": 34,
   "metadata": {},
   "outputs": [
    {
     "data": {
      "image/png": "[encoded data removed]",
      "text/plain": [
       "<Figure size 640x480 with 1 Axes>"
      ]
     },
     "metadata": {},
     "output_type": "display_data"
    }
   ],
   "source": [
    "# Using PySpark to create a scatter plot without converting to Pandas\n",
    "import matplotlib.pyplot as plt\n",
    "\n",
    "# Collect data into a local Python list\n",
    "driver_constructor_list = driver_constructor_correlation.select(\"driverRank\", \"constructorRank\").collect()\n",
    "\n",
    "# Unpack the data into two lists\n",
    "driver_ranks = [row.driverRank for row in driver_constructor_list]\n",
    "constructor_ranks = [row.constructorRank for row in driver_constructor_list]\n",
    "\n",
    "# Create scatter plot\n",
    "plt.scatter(driver_ranks, constructor_ranks, alpha=0.5)\n",
    "plt.xlabel('Driver Rank')\n",
    "plt.ylabel('Constructor Rank')\n",
    "plt.title('Driver Rank vs Constructor Rank Correlation')\n",
    "plt.show()\n"
   ]
  }
 ],
 "metadata": {
  "kernelspec": {
   "display_name": "Python 3",
   "language": "python",
   "name": "python3"
  },
  "language_info": {
   "codemirror_mode": {
    "name": "ipython",
    "version": 3
   },
   "file_extension": ".py",
   "mimetype": "text/x-python",
   "name": "python",
   "nbconvert_exporter": "python",
   "pygments_lexer": "ipython3",
   "version": "3.12.3"
  }
 },
 "nbformat": 4,
 "nbformat_minor": 2
}
